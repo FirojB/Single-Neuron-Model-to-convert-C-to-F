{
  "nbformat": 4,
  "nbformat_minor": 0,
  "metadata": {
    "colab": {
      "provenance": []
    },
    "kernelspec": {
      "name": "python3",
      "display_name": "Python 3"
    },
    "language_info": {
      "name": "python"
    },
    "gpuClass": "standard"
  },
  "cells": [
    {
      "cell_type": "markdown",
      "source": [
        "# Simple Machine learning\n",
        "## Train the model to convert Celcius to Fahrenheit"
      ],
      "metadata": {
        "id": "iqP6mEiIB6Dj"
      }
    },
    {
      "cell_type": "markdown",
      "source": [
        "To prediction the value of one variable Y based on another variable X\n",
        "\n",
        "Y is called  Dependent value\n",
        "X is called Independent value\n",
        "\n",
        "This is call \"Regression\""
      ],
      "metadata": {
        "id": "K8IJJpPbBgKF"
      }
    },
    {
      "cell_type": "markdown",
      "source": [
        "Output = Input x weight + bais"
      ],
      "metadata": {
        "id": "GRmjDvm1CX_5"
      }
    },
    {
      "cell_type": "markdown",
      "source": [
        "http://playground.tensorflow.org\n",
        "\n",
        "\n",
        "In **classification**, we want to classify two classes or more than two classes, \n",
        "\n",
        "In **regression**, we try to predict a continuous output."
      ],
      "metadata": {
        "id": "RIJfbiOjF3CR"
      }
    },
    {
      "cell_type": "markdown",
      "source": [
        "To convert Celsius to Fahrenheit\n",
        "Equation : Temp (F) = Temp(C) x 9/5 +32\n"
      ],
      "metadata": {
        "id": "r7EbMa6rKvS8"
      }
    },
    {
      "cell_type": "code",
      "source": [
        "from IPython.display import clear_output\n",
        "# !pip install tensorflow-gpu\n",
        "# !pip install psutil\n",
        "# !pip install humanize\n",
        "!pip install gputil\n",
        "\n",
        "clear_output()\n",
        "print(\"Cheers !!! - Libraries Installed\")"
      ],
      "metadata": {
        "colab": {
          "base_uri": "https://localhost:8080/"
        },
        "id": "y3Qwd2gHLTrj",
        "outputId": "3b7a8f5c-207c-4d62-854b-28e73f9937d6"
      },
      "execution_count": 1,
      "outputs": [
        {
          "output_type": "stream",
          "name": "stdout",
          "text": [
            "Cheers !!! - Libraries Installed\n"
          ]
        }
      ]
    },
    {
      "cell_type": "code",
      "source": [
        "#@title Code to get the GPU and RAM Details\n",
        "!ln -sf /opt/bin/nvidia-smi /usr/bin/nvidia-smi\n",
        "\n",
        "import tensorflow as tf\n",
        "import psutil\n",
        "import humanize\n",
        "import GPUtil as GPU\n",
        "import os\n",
        "\n",
        "print(\"TensorFlow version: \",tf.__version__)\n",
        "\n",
        "if tf.config.list_physical_devices('GPU'):\n",
        "  print(\"\\n|-- GPU Availalbe --|\\n\")\n",
        "  # Print the GPU Details\n",
        "  GPUs = GPU.getGPUs()\n",
        "  gpu = GPUs[0]\n",
        "  process = psutil.Process(os.getpid())\n",
        "  print(\"Gen RAM Free: \" + humanize.naturalsize( psutil.virtual_memory().available ), \" | Proc size: \" + humanize.naturalsize( process.memory_info().rss))\n",
        "  print(\"GPU RAM Free: {0:.0f}MB | Used: {1:.0f}MB | Util {2:3.0f}% | Total {3:.0f}MB\".format(gpu.memoryFree, gpu.memoryUsed, gpu.memoryUtil*100, gpu.memoryTotal))\n",
        "  # Print details info about the GPU\n",
        "  !nvidia-smi\n",
        "\n",
        "else:\n",
        "  print( \"\\n*** No GPU Found ***\\n\")\n",
        "\n",
        "# if (tf.test.gpu_device_name().split(':')[1]) != 'GPU':\n",
        "#   # print( \"\\n*** No GPU Found ***\\n\")  \n",
        "#   raise TypeError(\"\\n*** No GPU Found ***\\n\")    \n",
        "\n",
        "# print(\"\\n|-- GPU Availalbe --|\\n\")\n",
        "\n",
        "# print(\"GPU Available: \",tf.test.is_gpu_available())\n",
        "# print(tf.config.list_physical_devices('GPU'))\n",
        "# print(\"CPU/GPU : \",tf.config.list_physical_devices())\n",
        "\n",
        "\n"
      ],
      "metadata": {
        "colab": {
          "base_uri": "https://localhost:8080/"
        },
        "id": "UJDtn0p3Qowt",
        "outputId": "f9869437-75b0-48b5-efd9-17ab404a40c5"
      },
      "execution_count": 2,
      "outputs": [
        {
          "output_type": "stream",
          "name": "stdout",
          "text": [
            "TensorFlow version:  2.11.0\n",
            "\n",
            "*** No GPU Found ***\n",
            "\n"
          ]
        }
      ]
    },
    {
      "cell_type": "code",
      "execution_count": 4,
      "metadata": {
        "id": "4geAyxnJ7ieu"
      },
      "outputs": [],
      "source": [
        "#@title Simple Machine Learning Model \n",
        "import matplotlib\n",
        "import seaborn as sns  # To Visualize the data\n",
        "import pandas as pd # To read the csv file\n",
        "import numpy as np\n",
        "import matplotlib.pyplot as plt # To plot the graph\n",
        "from keras.models import load_model  # To load the trained model\n"
      ]
    },
    {
      "cell_type": "code",
      "source": [
        "#@title Mounting the google drive\n",
        "from google.colab import drive\n",
        "drive.mount('/content/drive')\n",
        "\n",
        "# importing the datase\n",
        "temp_df = pd.read_csv('/content/drive/MyDrive/Colab Notebooks/1. Single Neuron Model/Celsius_to_Fahrenheit.csv')"
      ],
      "metadata": {
        "id": "-56VuKyLR9Qx",
        "colab": {
          "base_uri": "https://localhost:8080/"
        },
        "outputId": "d8a1a509-9246-4e5f-ad37-3142d32ba850"
      },
      "execution_count": 5,
      "outputs": [
        {
          "output_type": "stream",
          "name": "stdout",
          "text": [
            "Drive already mounted at /content/drive; to attempt to forcibly remount, call drive.mount(\"/content/drive\", force_remount=True).\n"
          ]
        }
      ]
    },
    {
      "cell_type": "code",
      "source": [
        "print('First 5 Rows\\n')\n",
        "temp_df.head(5)"
      ],
      "metadata": {
        "id": "vtJ1fxI6L2pG"
      },
      "execution_count": null,
      "outputs": []
    },
    {
      "cell_type": "code",
      "source": [
        "print('\\nlast 10 Rows')\n",
        "temp_df.tail(10)"
      ],
      "metadata": {
        "id": "NYb_-9FcN0j2"
      },
      "execution_count": null,
      "outputs": []
    },
    {
      "cell_type": "code",
      "source": [
        "#@title Statistical information about the data\n",
        "temp_df.describe()"
      ],
      "metadata": {
        "id": "w3gmYbI5QQ2V"
      },
      "execution_count": null,
      "outputs": []
    },
    {
      "cell_type": "code",
      "source": [
        "#@title Gives Summary information about the dataset\n",
        "temp_df.info()"
      ],
      "metadata": {
        "id": "1Dq-8nxfQumL"
      },
      "execution_count": null,
      "outputs": []
    },
    {
      "cell_type": "code",
      "source": [
        "#@title Data Visualisation \n",
        "sns.scatterplot(temp_df['Celsius'],temp_df['Fahrenheit'])"
      ],
      "metadata": {
        "id": "0-SLhswDW4zZ"
      },
      "execution_count": null,
      "outputs": []
    },
    {
      "cell_type": "code",
      "source": [
        "#@title Create Train and Test Dataset\n",
        "x_train = temp_df['Celsius']\n",
        "y_train = temp_df['Fahrenheit']"
      ],
      "metadata": {
        "id": "BahelEtRYDfL"
      },
      "execution_count": null,
      "outputs": []
    },
    {
      "cell_type": "code",
      "source": [
        "x_train.shape"
      ],
      "metadata": {
        "id": "ZG56-ofBZXph"
      },
      "execution_count": null,
      "outputs": []
    },
    {
      "cell_type": "code",
      "source": [
        "y_train.shape"
      ],
      "metadata": {
        "id": "8bz2lhUGZfRk"
      },
      "execution_count": null,
      "outputs": []
    },
    {
      "cell_type": "code",
      "source": [
        "#@title Creating a sequential model (layer by layer)\n",
        "model = tf.keras.Sequential()\n",
        "\n",
        "# Units - number of neuron, and 'input shape' is number of input, here we have one input.\n",
        "# One neuron means one weight and one bias\n",
        "# In Dense network ery neuron is connected to other neuron\n",
        "model.add(tf.keras.layers.Dense(units = 1, input_shape = [1]))"
      ],
      "metadata": {
        "id": "NTcCyVq5Zj6h"
      },
      "execution_count": null,
      "outputs": []
    },
    {
      "cell_type": "code",
      "source": [
        "#@title Model Summary\n",
        "model.summary()"
      ],
      "metadata": {
        "id": "L4XlfUUibZ1v"
      },
      "execution_count": null,
      "outputs": []
    },
    {
      "cell_type": "code",
      "source": [
        "#@title Run the optimizer to obtain the value of parameters, Weight and Bias\n",
        "\n",
        "# 0.5 is learning rate, mean_squared_error = true label or the ground troops minus the network predictions, \n",
        "# loss = what tring to minimise - mean_squared_erro, take the error square it and then take the mean of all the data points.\n",
        "model.compile(optimizer = tf.keras.optimizers.Adam(0.5), loss = 'mean_squared_error') \n"
      ],
      "metadata": {
        "id": "hFJ8KPunb9ZL"
      },
      "execution_count": null,
      "outputs": []
    },
    {
      "cell_type": "code",
      "source": [
        "#@title To fit the training data to the model and Train a model\n",
        "\n",
        "epochs_hist = model.fit(x_train, y_train, epochs=200)"
      ],
      "metadata": {
        "id": "3pgM-3Rze7sl"
      },
      "execution_count": null,
      "outputs": []
    },
    {
      "cell_type": "code",
      "source": [
        "#@title Evaluate the model\n",
        "epochs_hist.history.keys()"
      ],
      "metadata": {
        "id": "rSZ6thccgAM3"
      },
      "execution_count": null,
      "outputs": []
    },
    {
      "cell_type": "code",
      "source": [
        "# Training Loss visualizarion\n",
        "plt.plot(epochs_hist.history['loss'])\n",
        "plt.title('Loss Progress')\n",
        "plt.xlabel('Epochs')\n",
        "plt.ylabel('Training Loss')\n",
        "plt.legend(['Training Loss'])"
      ],
      "metadata": {
        "id": "TD_Y8Of54ee1"
      },
      "execution_count": null,
      "outputs": []
    },
    {
      "cell_type": "code",
      "source": [
        "model.get_weights()\n",
        "\n",
        "# Equation = Temp (F) = Temp(C) x 9/5 +32\n",
        "# array([[1.7999686]] = 9/5 \n",
        "# array([32.00292] is 32"
      ],
      "metadata": {
        "id": "iargTQpk5yjw"
      },
      "execution_count": null,
      "outputs": []
    },
    {
      "cell_type": "code",
      "source": [
        "#@title Deploye of Trained Network to predecit the Tempreture conversion\n",
        "Temp_C = 0\n",
        "Temp_F = model.predict([Temp_C])\n",
        "print(f'Temperature in Fahrenheit by trained AI Network : {Temp_F} ')\n"
      ],
      "metadata": {
        "id": "Sj9khqkg6o8Y",
        "colab": {
          "base_uri": "https://localhost:8080/"
        },
        "outputId": "ecb2a67d-d99a-49a1-a1a5-a439e9f76cbf"
      },
      "execution_count": 9,
      "outputs": [
        {
          "output_type": "stream",
          "name": "stdout",
          "text": [
            "1/1 [==============================] - 0s 43ms/step\n",
            "Temperature in Fahrenheit by trained AI Network : [[32.000015]] \n"
          ]
        }
      ]
    },
    {
      "cell_type": "code",
      "source": [
        "#@title Save the trained model\n",
        "model.save(\"/content/drive/MyDrive/Colab Notebooks/1. Single Neuron Model/Celsius_to_Fahrenheit.h5\")"
      ],
      "metadata": {
        "id": "y7ehCUKx4mqk"
      },
      "execution_count": null,
      "outputs": []
    },
    {
      "cell_type": "code",
      "source": [
        "#@title Load the trained model\n",
        "model = load_model(\"/content/drive/MyDrive/Colab Notebooks/1. Single Neuron Model/Celsius_to_Fahrenheit.h5\")"
      ],
      "metadata": {
        "id": "ZhidP8PR5Sr9"
      },
      "execution_count": 6,
      "outputs": []
    }
  ]
}